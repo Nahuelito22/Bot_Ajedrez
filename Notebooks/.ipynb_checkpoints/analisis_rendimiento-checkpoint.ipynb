{
 "cells": [
  {
   "cell_type": "markdown",
   "id": "13419df6",
   "metadata": {},
   "source": [
    "Celda 1: Imports y Carga de Artefactos"
   ]
  },
  {
   "cell_type": "code",
   "execution_count": null,
   "id": "183318c1",
   "metadata": {},
   "outputs": [
    {
     "ename": "ModuleNotFoundError",
     "evalue": "No module named 'tensorflow'",
     "output_type": "error",
     "traceback": [
      "\u001b[31m---------------------------------------------------------------------------\u001b[39m",
      "\u001b[31mModuleNotFoundError\u001b[39m                       Traceback (most recent call last)",
      "\u001b[36mCell\u001b[39m\u001b[36m \u001b[39m\u001b[32mIn[2]\u001b[39m\u001b[32m, line 1\u001b[39m\n\u001b[32m----> \u001b[39m\u001b[32m1\u001b[39m \u001b[38;5;28;01mimport\u001b[39;00m\u001b[38;5;250m \u001b[39m\u001b[34;01mtensorflow\u001b[39;00m\u001b[38;5;250m \u001b[39m\u001b[38;5;28;01mas\u001b[39;00m\u001b[38;5;250m \u001b[39m\u001b[34;01mtf\u001b[39;00m\n\u001b[32m      2\u001b[39m \u001b[38;5;28;01mimport\u001b[39;00m\u001b[38;5;250m \u001b[39m\u001b[34;01mnumpy\u001b[39;00m\u001b[38;5;250m \u001b[39m\u001b[38;5;28;01mas\u001b[39;00m\u001b[38;5;250m \u001b[39m\u001b[34;01mnp\u001b[39;00m\n\u001b[32m      3\u001b[39m \u001b[38;5;28;01mimport\u001b[39;00m\u001b[38;5;250m \u001b[39m\u001b[34;01mpickle\u001b[39;00m\n",
      "\u001b[31mModuleNotFoundError\u001b[39m: No module named 'tensorflow'"
     ]
    }
   ],
   "source": [
    "import tensorflow as tf\n",
    "import numpy as np\n",
    "import pickle\n",
    "import chess.pgn\n",
    "import os\n",
    "import matplotlib.pyplot as plt\n",
    "\n",
    "# --- CONFIGURACIÓN ---\n",
    "# Asegúrate de que estas rutas apunten a tus archivos\n",
    "MODEL_PATH = \"../trained_models/modelo_epoch_06.keras\" \n",
    "TOKENIZER_PATH = \"../trained_models/tokenizer.pkl\"\n",
    "MAX_SEQUENCE_LENGTH = 50\n",
    "# --------------------\n",
    "\n",
    "print(\"Cargando modelo y tokenizador...\")\n",
    "model = tf.keras.models.load_model(MODEL_PATH)\n",
    "with open(TOKENIZER_PATH, 'rb') as f:\n",
    "    tokenizer = pickle.load(f)\n",
    "print(\"✅ Listo.\")\n",
    "\n",
    "model.summary()"
   ]
  },
  {
   "cell_type": "markdown",
   "id": "21ddec23",
   "metadata": {},
   "source": [
    "Celda 2: Función de Predicción y Carga de la Partida"
   ]
  },
  {
   "cell_type": "code",
   "execution_count": null,
   "id": "624a547b",
   "metadata": {},
   "outputs": [],
   "source": [
    "def predecir_siguientes_movimientos(sequence_text, top_k=10):\n",
    "    sequence_num = tokenizer.texts_to_sequences([sequence_text])\n",
    "    sequence_padded = tf.keras.preprocessing.sequence.pad_sequences(\n",
    "        sequence_num, maxlen=MAX_SEQUENCE_LENGTH, padding='post'\n",
    "    )\n",
    "    prediction = model.predict(sequence_padded, verbose=0)[0]\n",
    "    top_indices = np.argsort(prediction)[-top_k:][::-1]\n",
    "    predicted_moves = [tokenizer.index_word.get(i, \"[DESCONOCIDO]\") for i in top_indices]\n",
    "    return predicted_moves\n",
    "\n",
    "# Cargar la partida de prueba\n",
    "pgn_file = open(\"../partida_test.pgn\")\n",
    "partida_test = chess.pgn.read_game(pgn_file)\n",
    "\n",
    "# Convertimos la partida a una lista de jugadas en notación SAN\n",
    "movimientos_reales = []\n",
    "board = partida_test.board()\n",
    "for move in partida_test.mainline_moves():\n",
    "    movimientos_reales.append(board.san(move))\n",
    "    board.push(move)\n",
    "\n",
    "print(f\"Partida de prueba cargada con {len(movimientos_reales)} jugadas.\")"
   ]
  },
  {
   "cell_type": "markdown",
   "id": "e507dc83",
   "metadata": {},
   "source": [
    "Celda 3: El Bucle de Testeo\n",
    "\n"
   ]
  },
  {
   "cell_type": "code",
   "execution_count": null,
   "id": "732d60f0",
   "metadata": {},
   "outputs": [],
   "source": [
    "resultados = []\n",
    "# Analizamos la partida desde la jugada 5 hasta la 40, por ejemplo\n",
    "for i in range(5, 41):\n",
    "    historial_hasta_ahora = movimientos_reales[:i]\n",
    "    jugada_correcta = movimientos_reales[i]\n",
    "    \n",
    "    # Pedimos las predicciones del bot\n",
    "    predicciones_bot = predecir_siguientes_movimientos(historial_hasta_ahora, top_k=5)\n",
    "    \n",
    "    # Verificamos si la jugada correcta está en el Top-1, Top-3 o Top-5\n",
    "    acierto_top1 = 1 if jugada_correcta == predicciones_bot[0] else 0\n",
    "    acierto_top3 = 1 if jugada_correcta in predicciones_bot[:3] else 0\n",
    "    acierto_top5 = 1 if jugada_correcta in predicciones_bot[:5] else 0\n",
    "    \n",
    "    resultados.append({\n",
    "        \"num_jugada\": i + 1,\n",
    "        \"acierto_top1\": acierto_top1,\n",
    "        \"acierto_top3\": acierto_top3,\n",
    "        \"acierto_top5\": acierto_top5\n",
    "    })\n",
    "    \n",
    "    print(f\"Jugada #{i+1}: Historial={historial_hasta_ahora[-3:]}... Jugada correcta='{jugada_correcta}', Top-5 Bot={predicciones_bot}\")\n",
    "\n",
    "print(\"\\n✅ Análisis completado.\")"
   ]
  },
  {
   "cell_type": "markdown",
   "id": "37aecb42",
   "metadata": {},
   "source": [
    "Celda 4: Visualización de Resultados"
   ]
  },
  {
   "cell_type": "code",
   "execution_count": null,
   "id": "a8a1a20a",
   "metadata": {},
   "outputs": [],
   "source": [
    "import pandas as pd\n",
    "\n",
    "df_resultados = pd.DataFrame(resultados)\n",
    "\n",
    "# Usamos una media móvil para suavizar la gráfica y ver la tendencia\n",
    "window_size = 5\n",
    "df_resultados['top1_suavizado'] = df_resultados['acierto_top1'].rolling(window=window_size).mean()\n",
    "df_resultados['top3_suavizado'] = df_resultados['acierto_top3'].rolling(window=window_size).mean()\n",
    "df_resultados['top5_suavizado'] = df_resultados['acierto_top5'].rolling(window=window_size).mean()\n",
    "\n",
    "plt.style.use('seaborn-v0_8-whitegrid')\n",
    "fig, ax = plt.subplots(figsize=(14, 7))\n",
    "\n",
    "ax.plot(df_resultados['num_jugada'], df_resultados['top1_suavizado'], label='Precisión Top-1 (Suavizada)', marker='o', linestyle='--')\n",
    "ax.plot(df_resultados['num_jugada'], df_resultados['top3_suavizado'], label='Precisión Top-3 (Suavizada)', marker='o', linestyle='--')\n",
    "ax.plot(df_resultados['num_jugada'], df_resultados['top5_suavizado'], label='Precisión Top-5 (Suavizada)', marker='o', linestyle='-')\n",
    "\n",
    "ax.set_title('Rendimiento del Modelo vs. Longitud de la Partida', fontsize=16)\n",
    "ax.set_xlabel('Número de Jugada en la Partida', fontsize=12)\n",
    "ax.set_ylabel('Tasa de Acierto (Media Móvil)', fontsize=12)\n",
    "ax.set_ylim(0, 1.1)\n",
    "ax.legend(fontsize=12)\n",
    "\n",
    "plt.show()"
   ]
  }
 ],
 "metadata": {
  "kernelspec": {
   "display_name": "Python 3",
   "language": "python",
   "name": "python3"
  },
  "language_info": {
   "codemirror_mode": {
    "name": "ipython",
    "version": 3
   },
   "file_extension": ".py",
   "mimetype": "text/x-python",
   "name": "python",
   "nbconvert_exporter": "python",
   "pygments_lexer": "ipython3",
   "version": "3.11.9"
  }
 },
 "nbformat": 4,
 "nbformat_minor": 5
}
